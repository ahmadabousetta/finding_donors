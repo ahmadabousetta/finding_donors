{
 "cells": [
  {
   "cell_type": "markdown",
   "metadata": {},
   "source": [
    "# Data Scientist Nanodegree\n",
    "## Supervised Learning\n",
    "## Project: Finding Donors for *CharityML*"
   ]
  },
  {
   "cell_type": "markdown",
   "metadata": {},
   "source": [
    "Welcome to the first project of the Data Scientist Nanodegree! In this notebook, some template code has already been provided for you, and it will be your job to implement the additional functionality necessary to successfully complete this project. Sections that begin with **'Implementation'** in the header indicate that the following block of code will require additional functionality which you must provide. Instructions will be provided for each section and the specifics of the implementation are marked in the code block with a `'TODO'` statement. Please be sure to read the instructions carefully!\n",
    "\n",
    "In addition to implementing code, there will be questions that you must answer which relate to the project and your implementation. Each section where you will answer a question is preceded by a **'Question X'** header. Carefully read each question and provide thorough answers in the following text boxes that begin with **'Answer:'**. Your project submission will be evaluated based on your answers to each of the questions and the implementation you provide.  \n",
    "\n",
    ">**Note:** Please specify WHICH VERSION OF PYTHON you are using when submitting this notebook. Code and Markdown cells can be executed using the **Shift + Enter** keyboard shortcut. In addition, Markdown cells can be edited by typically double-clicking the cell to enter edit mode."
   ]
  },
  {
   "cell_type": "markdown",
   "metadata": {},
   "source": [
    "## Getting Started\n",
    "\n",
    "In this project, you will employ several supervised algorithms of your choice to accurately model individuals' income using data collected from the 1994 U.S. Census. You will then choose the best candidate algorithm from preliminary results and further optimize this algorithm to best model the data. Your goal with this implementation is to construct a model that accurately predicts whether an individual makes more than $50,000. This sort of task can arise in a non-profit setting, where organizations survive on donations.  Understanding an individual's income can help a non-profit better understand how large of a donation to request, or whether or not they should reach out to begin with.  While it can be difficult to determine an individual's general income bracket directly from public sources, we can (as we will see) infer this value from other publically available features. \n",
    "\n",
    "The dataset for this project originates from the [UCI Machine Learning Repository](https://archive.ics.uci.edu/ml/datasets/Census+Income). The datset was donated by Ron Kohavi and Barry Becker, after being published in the article _\"Scaling Up the Accuracy of Naive-Bayes Classifiers: A Decision-Tree Hybrid\"_. You can find the article by Ron Kohavi [online](https://www.aaai.org/Papers/KDD/1996/KDD96-033.pdf). The data we investigate here consists of small changes to the original dataset, such as removing the `'fnlwgt'` feature and records with missing or ill-formatted entries."
   ]
  },
  {
   "cell_type": "markdown",
   "metadata": {},
   "source": [
    "----\n",
    "## Exploring the Data\n",
    "Run the code cell below to load necessary Python libraries and load the census data. Note that the last column from this dataset, `'income'`, will be our target label (whether an individual makes more than, or at most, $50,000 annually). All other columns are features about each individual in the census database."
   ]
  },
  {
   "cell_type": "code",
   "execution_count": 1,
   "metadata": {},
   "outputs": [
    {
     "data": {
      "text/html": [
       "<div>\n",
       "<style scoped>\n",
       "    .dataframe tbody tr th:only-of-type {\n",
       "        vertical-align: middle;\n",
       "    }\n",
       "\n",
       "    .dataframe tbody tr th {\n",
       "        vertical-align: top;\n",
       "    }\n",
       "\n",
       "    .dataframe thead th {\n",
       "        text-align: right;\n",
       "    }\n",
       "</style>\n",
       "<table border=\"1\" class=\"dataframe\">\n",
       "  <thead>\n",
       "    <tr style=\"text-align: right;\">\n",
       "      <th></th>\n",
       "      <th>age</th>\n",
       "      <th>workclass</th>\n",
       "      <th>education_level</th>\n",
       "      <th>education-num</th>\n",
       "      <th>marital-status</th>\n",
       "      <th>occupation</th>\n",
       "      <th>relationship</th>\n",
       "      <th>race</th>\n",
       "      <th>sex</th>\n",
       "      <th>capital-gain</th>\n",
       "      <th>capital-loss</th>\n",
       "      <th>hours-per-week</th>\n",
       "      <th>native-country</th>\n",
       "      <th>income</th>\n",
       "    </tr>\n",
       "  </thead>\n",
       "  <tbody>\n",
       "    <tr>\n",
       "      <th>0</th>\n",
       "      <td>39</td>\n",
       "      <td>State-gov</td>\n",
       "      <td>Bachelors</td>\n",
       "      <td>13.0</td>\n",
       "      <td>Never-married</td>\n",
       "      <td>Adm-clerical</td>\n",
       "      <td>Not-in-family</td>\n",
       "      <td>White</td>\n",
       "      <td>Male</td>\n",
       "      <td>2174.0</td>\n",
       "      <td>0.0</td>\n",
       "      <td>40.0</td>\n",
       "      <td>United-States</td>\n",
       "      <td>&lt;=50K</td>\n",
       "    </tr>\n",
       "  </tbody>\n",
       "</table>\n",
       "</div>"
      ],
      "text/plain": [
       "   age   workclass education_level  education-num  marital-status  \\\n",
       "0   39   State-gov       Bachelors           13.0   Never-married   \n",
       "\n",
       "      occupation    relationship    race    sex  capital-gain  capital-loss  \\\n",
       "0   Adm-clerical   Not-in-family   White   Male        2174.0           0.0   \n",
       "\n",
       "   hours-per-week  native-country income  \n",
       "0            40.0   United-States  <=50K  "
      ]
     },
     "metadata": {},
     "output_type": "display_data"
    }
   ],
   "source": [
    "# Import libraries necessary for this project\n",
    "import numpy as np\n",
    "import pandas as pd\n",
    "from time import time\n",
    "from IPython.display import display # Allows the use of display() for DataFrames\n",
    "\n",
    "# Import supplementary visualization code visuals.py\n",
    "import visuals as vs\n",
    "\n",
    "# Pretty display for notebooks\n",
    "%matplotlib inline\n",
    "\n",
    "# Load the Census dataset\n",
    "data = pd.read_csv(\"census.csv\")\n",
    "\n",
    "# Success - Display the first record\n",
    "display(data.head(n=1))"
   ]
  },
  {
   "cell_type": "markdown",
   "metadata": {},
   "source": [
    "### Implementation: Data Exploration\n",
    "A cursory investigation of the dataset will determine how many individuals fit into either group, and will tell us about the percentage of these individuals making more than \\$50,000. In the code cell below, you will need to compute the following:\n",
    "- The total number of records, `'n_records'`\n",
    "- The number of individuals making more than \\$50,000 annually, `'n_greater_50k'`.\n",
    "- The number of individuals making at most \\$50,000 annually, `'n_at_most_50k'`.\n",
    "- The percentage of individuals making more than \\$50,000 annually, `'greater_percent'`.\n",
    "\n",
    "** HINT: ** You may need to look at the table above to understand how the `'income'` entries are formatted. "
   ]
  },
  {
   "cell_type": "code",
   "execution_count": 2,
   "metadata": {},
   "outputs": [
    {
     "data": {
      "text/html": [
       "<div>\n",
       "<style scoped>\n",
       "    .dataframe tbody tr th:only-of-type {\n",
       "        vertical-align: middle;\n",
       "    }\n",
       "\n",
       "    .dataframe tbody tr th {\n",
       "        vertical-align: top;\n",
       "    }\n",
       "\n",
       "    .dataframe thead th {\n",
       "        text-align: right;\n",
       "    }\n",
       "</style>\n",
       "<table border=\"1\" class=\"dataframe\">\n",
       "  <thead>\n",
       "    <tr style=\"text-align: right;\">\n",
       "      <th></th>\n",
       "      <th>age</th>\n",
       "      <th>workclass</th>\n",
       "      <th>education_level</th>\n",
       "      <th>education-num</th>\n",
       "      <th>marital-status</th>\n",
       "      <th>occupation</th>\n",
       "      <th>relationship</th>\n",
       "      <th>race</th>\n",
       "      <th>sex</th>\n",
       "      <th>capital-gain</th>\n",
       "      <th>capital-loss</th>\n",
       "      <th>hours-per-week</th>\n",
       "      <th>native-country</th>\n",
       "      <th>income</th>\n",
       "    </tr>\n",
       "  </thead>\n",
       "  <tbody>\n",
       "    <tr>\n",
       "      <th>41306</th>\n",
       "      <td>35</td>\n",
       "      <td>Self-emp-not-inc</td>\n",
       "      <td>1st-4th</td>\n",
       "      <td>2.0</td>\n",
       "      <td>Married-civ-spouse</td>\n",
       "      <td>Exec-managerial</td>\n",
       "      <td>Husband</td>\n",
       "      <td>White</td>\n",
       "      <td>Male</td>\n",
       "      <td>4386.0</td>\n",
       "      <td>0.0</td>\n",
       "      <td>65.0</td>\n",
       "      <td>Mexico</td>\n",
       "      <td>&lt;=50K</td>\n",
       "    </tr>\n",
       "    <tr>\n",
       "      <th>7388</th>\n",
       "      <td>19</td>\n",
       "      <td>Private</td>\n",
       "      <td>Some-college</td>\n",
       "      <td>10.0</td>\n",
       "      <td>Never-married</td>\n",
       "      <td>Adm-clerical</td>\n",
       "      <td>Other-relative</td>\n",
       "      <td>White</td>\n",
       "      <td>Female</td>\n",
       "      <td>0.0</td>\n",
       "      <td>0.0</td>\n",
       "      <td>40.0</td>\n",
       "      <td>United-States</td>\n",
       "      <td>&lt;=50K</td>\n",
       "    </tr>\n",
       "    <tr>\n",
       "      <th>44746</th>\n",
       "      <td>17</td>\n",
       "      <td>Private</td>\n",
       "      <td>12th</td>\n",
       "      <td>8.0</td>\n",
       "      <td>Never-married</td>\n",
       "      <td>Other-service</td>\n",
       "      <td>Own-child</td>\n",
       "      <td>White</td>\n",
       "      <td>Male</td>\n",
       "      <td>0.0</td>\n",
       "      <td>0.0</td>\n",
       "      <td>20.0</td>\n",
       "      <td>United-States</td>\n",
       "      <td>&lt;=50K</td>\n",
       "    </tr>\n",
       "    <tr>\n",
       "      <th>29233</th>\n",
       "      <td>39</td>\n",
       "      <td>Private</td>\n",
       "      <td>10th</td>\n",
       "      <td>6.0</td>\n",
       "      <td>Divorced</td>\n",
       "      <td>Other-service</td>\n",
       "      <td>Unmarried</td>\n",
       "      <td>Black</td>\n",
       "      <td>Female</td>\n",
       "      <td>0.0</td>\n",
       "      <td>0.0</td>\n",
       "      <td>40.0</td>\n",
       "      <td>United-States</td>\n",
       "      <td>&lt;=50K</td>\n",
       "    </tr>\n",
       "    <tr>\n",
       "      <th>30465</th>\n",
       "      <td>18</td>\n",
       "      <td>Private</td>\n",
       "      <td>HS-grad</td>\n",
       "      <td>9.0</td>\n",
       "      <td>Never-married</td>\n",
       "      <td>Handlers-cleaners</td>\n",
       "      <td>Own-child</td>\n",
       "      <td>White</td>\n",
       "      <td>Male</td>\n",
       "      <td>0.0</td>\n",
       "      <td>0.0</td>\n",
       "      <td>20.0</td>\n",
       "      <td>United-States</td>\n",
       "      <td>&lt;=50K</td>\n",
       "    </tr>\n",
       "  </tbody>\n",
       "</table>\n",
       "</div>"
      ],
      "text/plain": [
       "       age          workclass education_level  education-num  \\\n",
       "41306   35   Self-emp-not-inc         1st-4th            2.0   \n",
       "7388    19            Private    Some-college           10.0   \n",
       "44746   17            Private            12th            8.0   \n",
       "29233   39            Private            10th            6.0   \n",
       "30465   18            Private         HS-grad            9.0   \n",
       "\n",
       "            marital-status          occupation     relationship    race  \\\n",
       "41306   Married-civ-spouse     Exec-managerial          Husband   White   \n",
       "7388         Never-married        Adm-clerical   Other-relative   White   \n",
       "44746        Never-married       Other-service        Own-child   White   \n",
       "29233             Divorced       Other-service        Unmarried   Black   \n",
       "30465        Never-married   Handlers-cleaners        Own-child   White   \n",
       "\n",
       "           sex  capital-gain  capital-loss  hours-per-week  native-country  \\\n",
       "41306     Male        4386.0           0.0            65.0          Mexico   \n",
       "7388    Female           0.0           0.0            40.0   United-States   \n",
       "44746     Male           0.0           0.0            20.0   United-States   \n",
       "29233   Female           0.0           0.0            40.0   United-States   \n",
       "30465     Male           0.0           0.0            20.0   United-States   \n",
       "\n",
       "      income  \n",
       "41306  <=50K  \n",
       "7388   <=50K  \n",
       "44746  <=50K  \n",
       "29233  <=50K  \n",
       "30465  <=50K  "
      ]
     },
     "metadata": {},
     "output_type": "display_data"
    }
   ],
   "source": [
    "display(data.sample(5))"
   ]
  },
  {
   "cell_type": "code",
   "execution_count": 3,
   "metadata": {},
   "outputs": [
    {
     "data": {
      "text/plain": [
       "'<=50K'"
      ]
     },
     "execution_count": 3,
     "metadata": {},
     "output_type": "execute_result"
    }
   ],
   "source": [
    "data.income[0]"
   ]
  },
  {
   "cell_type": "code",
   "execution_count": 4,
   "metadata": {
    "tags": []
   },
   "outputs": [
    {
     "name": "stdout",
     "output_type": "stream",
     "text": [
      "Total number of records: 45222\n",
      "Individuals making more than $50,000: 11208\n",
      "Individuals making at most $50,000: 34014\n",
      "Percentage of individuals making more than $50,000: 24.78%\n"
     ]
    }
   ],
   "source": [
    "# TODO: Total number of records\n",
    "n_records = data.shape[0]\n",
    "\n",
    "# TODO: Number of records where individual's income is more than $50,000\n",
    "n_greater_50k = data[data.income == '>50K'].shape[0]\n",
    "\n",
    "# TODO: Number of records where individual's income is at most $50,000\n",
    "n_at_most_50k = data[data.income == '<=50K'].shape[0]\n",
    "\n",
    "# TODO: Percentage of individuals whose income is more than $50,000\n",
    "greater_percent = (data.income == '>50K').mean()\n",
    "\n",
    "# Print the results\n",
    "print(\"Total number of records: {}\".format(n_records))\n",
    "print(\"Individuals making more than $50,000: {}\".format(n_greater_50k))\n",
    "print(\"Individuals making at most $50,000: {}\".format(n_at_most_50k))\n",
    "print(f\"Percentage of individuals making more than $50,000: {100*greater_percent:.2f}%\")"
   ]
  },
  {
   "cell_type": "markdown",
   "metadata": {},
   "source": [
    "** Featureset Exploration **\n",
    "\n",
    "* **age**: continuous. \n",
    "* **workclass**: Private, Self-emp-not-inc, Self-emp-inc, Federal-gov, Local-gov, State-gov, Without-pay, Never-worked. \n",
    "* **education**: Bachelors, Some-college, 11th, HS-grad, Prof-school, Assoc-acdm, Assoc-voc, 9th, 7th-8th, 12th, Masters, 1st-4th, 10th, Doctorate, 5th-6th, Preschool. \n",
    "* **education-num**: continuous. \n",
    "* **marital-status**: Married-civ-spouse, Divorced, Never-married, Separated, Widowed, Married-spouse-absent, Married-AF-spouse. \n",
    "* **occupation**: Tech-support, Craft-repair, Other-service, Sales, Exec-managerial, Prof-specialty, Handlers-cleaners, Machine-op-inspct, Adm-clerical, Farming-fishing, Transport-moving, Priv-house-serv, Protective-serv, Armed-Forces. \n",
    "* **relationship**: Wife, Own-child, Husband, Not-in-family, Other-relative, Unmarried. \n",
    "* **race**: Black, White, Asian-Pac-Islander, Amer-Indian-Eskimo, Other. \n",
    "* **sex**: Female, Male. \n",
    "* **capital-gain**: continuous. \n",
    "* **capital-loss**: continuous. \n",
    "* **hours-per-week**: continuous. \n",
    "* **native-country**: United-States, Cambodia, England, Puerto-Rico, Canada, Germany, Outlying-US(Guam-USVI-etc), India, Japan, Greece, South, China, Cuba, Iran, Honduras, Philippines, Italy, Poland, Jamaica, Vietnam, Mexico, Portugal, Ireland, France, Dominican-Republic, Laos, Ecuador, Taiwan, Haiti, Columbia, Hungary, Guatemala, Nicaragua, Scotland, Thailand, Yugoslavia, El-Salvador, Trinadad&Tobago, Peru, Hong, Holand-Netherlands."
   ]
  },
  {
   "cell_type": "markdown",
   "metadata": {},
   "source": [
    "----\n",
    "## Preparing the Data\n",
    "Before data can be used as input for machine learning algorithms, it often must be cleaned, formatted, and restructured — this is typically known as **preprocessing**. Fortunately, for this dataset, there are no invalid or missing entries we must deal with, however, there are some qualities about certain features that must be adjusted. This preprocessing can help tremendously with the outcome and predictive power of nearly all learning algorithms."
   ]
  },
  {
   "cell_type": "markdown",
   "metadata": {},
   "source": [
    "### Transforming Skewed Continuous Features\n",
    "A dataset may sometimes contain at least one feature whose values tend to lie near a single number, but will also have a non-trivial number of vastly larger or smaller values than that single number.  Algorithms can be sensitive to such distributions of values and can underperform if the range is not properly normalized. With the census dataset two features fit this description: '`capital-gain'` and `'capital-loss'`. \n",
    "\n",
    "Run the code cell below to plot a histogram of these two features. Note the range of the values present and how they are distributed."
   ]
  },
  {
   "cell_type": "code",
   "execution_count": 5,
   "metadata": {
    "tags": []
   },
   "outputs": [
    {
     "name": "stderr",
     "output_type": "stream",
     "text": [
      "c:\\Users\\Ahmed\\Courses\\EGFWD\\Data\\Cross-skill\\ml-donors-project\\cd0025-supervised-learning\\starter\\visuals.py:50: UserWarning: Matplotlib is currently using module://matplotlib_inline.backend_inline, which is a non-GUI backend, so cannot show the figure.\n",
      "  fig.show()\n"
     ]
    },
    {
     "data": {
      "image/png": "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",
      "text/plain": [
       "<Figure size 792x360 with 2 Axes>"
      ]
     },
     "metadata": {
      "needs_background": "light"
     },
     "output_type": "display_data"
    }
   ],
   "source": [
    "# Split the data into features and target label\n",
    "income_raw = data['income']\n",
    "features_raw = data.drop('income', axis = 1)\n",
    "\n",
    "# Visualize skewed continuous features of original data\n",
    "vs.distribution(data)"
   ]
  },
  {
   "cell_type": "markdown",
   "metadata": {},
   "source": [
    "For highly-skewed feature distributions such as `'capital-gain'` and `'capital-loss'`, it is common practice to apply a <a href=\"https://en.wikipedia.org/wiki/Data_transformation_(statistics)\">logarithmic transformation</a> on the data so that the very large and very small values do not negatively affect the performance of a learning algorithm. Using a logarithmic transformation significantly reduces the range of values caused by outliers. Care must be taken when applying this transformation however: The logarithm of `0` is undefined, so we must translate the values by a small amount above `0` to apply the the logarithm successfully.\n",
    "\n",
    "Run the code cell below to perform a transformation on the data and visualize the results. Again, note the range of values and how they are distributed. "
   ]
  },
  {
   "cell_type": "code",
   "execution_count": 6,
   "metadata": {
    "tags": []
   },
   "outputs": [
    {
     "data": {
      "image/png": "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",
      "text/plain": [
       "<Figure size 792x360 with 2 Axes>"
      ]
     },
     "metadata": {
      "needs_background": "light"
     },
     "output_type": "display_data"
    }
   ],
   "source": [
    "# Log-transform the skewed features\n",
    "skewed = ['capital-gain', 'capital-loss']\n",
    "features_log_transformed = pd.DataFrame(data = features_raw)\n",
    "features_log_transformed[skewed] = features_raw[skewed].apply(lambda x: np.log(x + 1))\n",
    "\n",
    "# Visualize the new log distributions\n",
    "vs.distribution(features_log_transformed, transformed = True)"
   ]
  },
  {
   "cell_type": "markdown",
   "metadata": {},
   "source": [
    "### Normalizing Numerical Features\n",
    "In addition to performing transformations on features that are highly skewed, it is often good practice to perform some type of scaling on numerical features. Applying a scaling to the data does not change the shape of each feature's distribution (such as `'capital-gain'` or `'capital-loss'` above); however, normalization ensures that each feature is treated equally when applying supervised learners. Note that once scaling is applied, observing the data in its raw form will no longer have the same original meaning, as exampled below.\n",
    "\n",
    "Run the code cell below to normalize each numerical feature. We will use [`sklearn.preprocessing.MinMaxScaler`](http://scikit-learn.org/stable/modules/generated/sklearn.preprocessing.MinMaxScaler.html) for this."
   ]
  },
  {
   "cell_type": "code",
   "execution_count": 7,
   "metadata": {
    "tags": []
   },
   "outputs": [
    {
     "data": {
      "text/html": [
       "<div>\n",
       "<style scoped>\n",
       "    .dataframe tbody tr th:only-of-type {\n",
       "        vertical-align: middle;\n",
       "    }\n",
       "\n",
       "    .dataframe tbody tr th {\n",
       "        vertical-align: top;\n",
       "    }\n",
       "\n",
       "    .dataframe thead th {\n",
       "        text-align: right;\n",
       "    }\n",
       "</style>\n",
       "<table border=\"1\" class=\"dataframe\">\n",
       "  <thead>\n",
       "    <tr style=\"text-align: right;\">\n",
       "      <th></th>\n",
       "      <th>age</th>\n",
       "      <th>workclass</th>\n",
       "      <th>education_level</th>\n",
       "      <th>education-num</th>\n",
       "      <th>marital-status</th>\n",
       "      <th>occupation</th>\n",
       "      <th>relationship</th>\n",
       "      <th>race</th>\n",
       "      <th>sex</th>\n",
       "      <th>capital-gain</th>\n",
       "      <th>capital-loss</th>\n",
       "      <th>hours-per-week</th>\n",
       "      <th>native-country</th>\n",
       "    </tr>\n",
       "  </thead>\n",
       "  <tbody>\n",
       "    <tr>\n",
       "      <th>0</th>\n",
       "      <td>0.301370</td>\n",
       "      <td>State-gov</td>\n",
       "      <td>Bachelors</td>\n",
       "      <td>0.800000</td>\n",
       "      <td>Never-married</td>\n",
       "      <td>Adm-clerical</td>\n",
       "      <td>Not-in-family</td>\n",
       "      <td>White</td>\n",
       "      <td>Male</td>\n",
       "      <td>0.667492</td>\n",
       "      <td>0.0</td>\n",
       "      <td>0.397959</td>\n",
       "      <td>United-States</td>\n",
       "    </tr>\n",
       "    <tr>\n",
       "      <th>1</th>\n",
       "      <td>0.452055</td>\n",
       "      <td>Self-emp-not-inc</td>\n",
       "      <td>Bachelors</td>\n",
       "      <td>0.800000</td>\n",
       "      <td>Married-civ-spouse</td>\n",
       "      <td>Exec-managerial</td>\n",
       "      <td>Husband</td>\n",
       "      <td>White</td>\n",
       "      <td>Male</td>\n",
       "      <td>0.000000</td>\n",
       "      <td>0.0</td>\n",
       "      <td>0.122449</td>\n",
       "      <td>United-States</td>\n",
       "    </tr>\n",
       "    <tr>\n",
       "      <th>2</th>\n",
       "      <td>0.287671</td>\n",
       "      <td>Private</td>\n",
       "      <td>HS-grad</td>\n",
       "      <td>0.533333</td>\n",
       "      <td>Divorced</td>\n",
       "      <td>Handlers-cleaners</td>\n",
       "      <td>Not-in-family</td>\n",
       "      <td>White</td>\n",
       "      <td>Male</td>\n",
       "      <td>0.000000</td>\n",
       "      <td>0.0</td>\n",
       "      <td>0.397959</td>\n",
       "      <td>United-States</td>\n",
       "    </tr>\n",
       "    <tr>\n",
       "      <th>3</th>\n",
       "      <td>0.493151</td>\n",
       "      <td>Private</td>\n",
       "      <td>11th</td>\n",
       "      <td>0.400000</td>\n",
       "      <td>Married-civ-spouse</td>\n",
       "      <td>Handlers-cleaners</td>\n",
       "      <td>Husband</td>\n",
       "      <td>Black</td>\n",
       "      <td>Male</td>\n",
       "      <td>0.000000</td>\n",
       "      <td>0.0</td>\n",
       "      <td>0.397959</td>\n",
       "      <td>United-States</td>\n",
       "    </tr>\n",
       "    <tr>\n",
       "      <th>4</th>\n",
       "      <td>0.150685</td>\n",
       "      <td>Private</td>\n",
       "      <td>Bachelors</td>\n",
       "      <td>0.800000</td>\n",
       "      <td>Married-civ-spouse</td>\n",
       "      <td>Prof-specialty</td>\n",
       "      <td>Wife</td>\n",
       "      <td>Black</td>\n",
       "      <td>Female</td>\n",
       "      <td>0.000000</td>\n",
       "      <td>0.0</td>\n",
       "      <td>0.397959</td>\n",
       "      <td>Cuba</td>\n",
       "    </tr>\n",
       "  </tbody>\n",
       "</table>\n",
       "</div>"
      ],
      "text/plain": [
       "        age          workclass education_level  education-num  \\\n",
       "0  0.301370          State-gov       Bachelors       0.800000   \n",
       "1  0.452055   Self-emp-not-inc       Bachelors       0.800000   \n",
       "2  0.287671            Private         HS-grad       0.533333   \n",
       "3  0.493151            Private            11th       0.400000   \n",
       "4  0.150685            Private       Bachelors       0.800000   \n",
       "\n",
       "        marital-status          occupation    relationship    race      sex  \\\n",
       "0        Never-married        Adm-clerical   Not-in-family   White     Male   \n",
       "1   Married-civ-spouse     Exec-managerial         Husband   White     Male   \n",
       "2             Divorced   Handlers-cleaners   Not-in-family   White     Male   \n",
       "3   Married-civ-spouse   Handlers-cleaners         Husband   Black     Male   \n",
       "4   Married-civ-spouse      Prof-specialty            Wife   Black   Female   \n",
       "\n",
       "   capital-gain  capital-loss  hours-per-week  native-country  \n",
       "0      0.667492           0.0        0.397959   United-States  \n",
       "1      0.000000           0.0        0.122449   United-States  \n",
       "2      0.000000           0.0        0.397959   United-States  \n",
       "3      0.000000           0.0        0.397959   United-States  \n",
       "4      0.000000           0.0        0.397959            Cuba  "
      ]
     },
     "metadata": {},
     "output_type": "display_data"
    }
   ],
   "source": [
    "# Import sklearn.preprocessing.StandardScaler\n",
    "from sklearn.preprocessing import MinMaxScaler\n",
    "\n",
    "# Initialize a scaler, then apply it to the features\n",
    "scaler = MinMaxScaler() # default=(0, 1)\n",
    "numerical = ['age', 'education-num', 'capital-gain', 'capital-loss', 'hours-per-week']\n",
    "\n",
    "features_log_minmax_transform = pd.DataFrame(data = features_log_transformed)\n",
    "features_log_minmax_transform[numerical] = scaler.fit_transform(features_log_transformed[numerical])\n",
    "\n",
    "# Show an example of a record with scaling applied\n",
    "display(features_log_minmax_transform.head(n = 5))"
   ]
  },
  {
   "cell_type": "markdown",
   "metadata": {},
   "source": [
    "### Implementation: Data Preprocessing\n",
    "\n",
    "From the table in **Exploring the Data** above, we can see there are several features for each record that are non-numeric. Typically, learning algorithms expect input to be numeric, which requires that non-numeric features (called *categorical variables*) be converted. One popular way to convert categorical variables is by using the **one-hot encoding** scheme. One-hot encoding creates a _\"dummy\"_ variable for each possible category of each non-numeric feature. For example, assume `someFeature` has three possible entries: `A`, `B`, or `C`. We then encode this feature into `someFeature_A`, `someFeature_B` and `someFeature_C`.\n",
    "\n",
    "|   | someFeature |                    | someFeature_A | someFeature_B | someFeature_C |\n",
    "| :-: | :-: |                            | :-: | :-: | :-: |\n",
    "| 0 |  B  |  | 0 | 1 | 0 |\n",
    "| 1 |  C  | ----> one-hot encode ----> | 0 | 0 | 1 |\n",
    "| 2 |  A  |  | 1 | 0 | 0 |\n",
    "\n",
    "Additionally, as with the non-numeric features, we need to convert the non-numeric target label, `'income'` to numerical values for the learning algorithm to work. Since there are only two possible categories for this label (\"<=50K\" and \">50K\"), we can avoid using one-hot encoding and simply encode these two categories as `0` and `1`, respectively. In code cell below, you will need to implement the following:\n",
    " - Use [`pandas.get_dummies()`](http://pandas.pydata.org/pandas-docs/stable/generated/pandas.get_dummies.html?highlight=get_dummies#pandas.get_dummies) to perform one-hot encoding on the `'features_log_minmax_transform'` data.\n",
    " - Convert the target label `'income_raw'` to numerical entries.\n",
    "   - Set records with \"<=50K\" to `0` and records with \">50K\" to `1`."
   ]
  },
  {
   "cell_type": "code",
   "execution_count": 8,
   "metadata": {},
   "outputs": [
    {
     "data": {
      "text/html": [
       "<div>\n",
       "<style scoped>\n",
       "    .dataframe tbody tr th:only-of-type {\n",
       "        vertical-align: middle;\n",
       "    }\n",
       "\n",
       "    .dataframe tbody tr th {\n",
       "        vertical-align: top;\n",
       "    }\n",
       "\n",
       "    .dataframe thead th {\n",
       "        text-align: right;\n",
       "    }\n",
       "</style>\n",
       "<table border=\"1\" class=\"dataframe\">\n",
       "  <thead>\n",
       "    <tr style=\"text-align: right;\">\n",
       "      <th></th>\n",
       "      <th>age</th>\n",
       "      <th>education-num</th>\n",
       "      <th>capital-gain</th>\n",
       "      <th>capital-loss</th>\n",
       "      <th>hours-per-week</th>\n",
       "      <th>workclass_ Local-gov</th>\n",
       "      <th>workclass_ Private</th>\n",
       "      <th>workclass_ Self-emp-inc</th>\n",
       "      <th>workclass_ Self-emp-not-inc</th>\n",
       "      <th>workclass_ State-gov</th>\n",
       "      <th>...</th>\n",
       "      <th>native-country_ Portugal</th>\n",
       "      <th>native-country_ Puerto-Rico</th>\n",
       "      <th>native-country_ Scotland</th>\n",
       "      <th>native-country_ South</th>\n",
       "      <th>native-country_ Taiwan</th>\n",
       "      <th>native-country_ Thailand</th>\n",
       "      <th>native-country_ Trinadad&amp;Tobago</th>\n",
       "      <th>native-country_ United-States</th>\n",
       "      <th>native-country_ Vietnam</th>\n",
       "      <th>native-country_ Yugoslavia</th>\n",
       "    </tr>\n",
       "  </thead>\n",
       "  <tbody>\n",
       "    <tr>\n",
       "      <th>0</th>\n",
       "      <td>0.301370</td>\n",
       "      <td>0.800000</td>\n",
       "      <td>0.667492</td>\n",
       "      <td>0.0</td>\n",
       "      <td>0.397959</td>\n",
       "      <td>0</td>\n",
       "      <td>0</td>\n",
       "      <td>0</td>\n",
       "      <td>0</td>\n",
       "      <td>1</td>\n",
       "      <td>...</td>\n",
       "      <td>0</td>\n",
       "      <td>0</td>\n",
       "      <td>0</td>\n",
       "      <td>0</td>\n",
       "      <td>0</td>\n",
       "      <td>0</td>\n",
       "      <td>0</td>\n",
       "      <td>1</td>\n",
       "      <td>0</td>\n",
       "      <td>0</td>\n",
       "    </tr>\n",
       "    <tr>\n",
       "      <th>1</th>\n",
       "      <td>0.452055</td>\n",
       "      <td>0.800000</td>\n",
       "      <td>0.000000</td>\n",
       "      <td>0.0</td>\n",
       "      <td>0.122449</td>\n",
       "      <td>0</td>\n",
       "      <td>0</td>\n",
       "      <td>0</td>\n",
       "      <td>1</td>\n",
       "      <td>0</td>\n",
       "      <td>...</td>\n",
       "      <td>0</td>\n",
       "      <td>0</td>\n",
       "      <td>0</td>\n",
       "      <td>0</td>\n",
       "      <td>0</td>\n",
       "      <td>0</td>\n",
       "      <td>0</td>\n",
       "      <td>1</td>\n",
       "      <td>0</td>\n",
       "      <td>0</td>\n",
       "    </tr>\n",
       "    <tr>\n",
       "      <th>2</th>\n",
       "      <td>0.287671</td>\n",
       "      <td>0.533333</td>\n",
       "      <td>0.000000</td>\n",
       "      <td>0.0</td>\n",
       "      <td>0.397959</td>\n",
       "      <td>0</td>\n",
       "      <td>1</td>\n",
       "      <td>0</td>\n",
       "      <td>0</td>\n",
       "      <td>0</td>\n",
       "      <td>...</td>\n",
       "      <td>0</td>\n",
       "      <td>0</td>\n",
       "      <td>0</td>\n",
       "      <td>0</td>\n",
       "      <td>0</td>\n",
       "      <td>0</td>\n",
       "      <td>0</td>\n",
       "      <td>1</td>\n",
       "      <td>0</td>\n",
       "      <td>0</td>\n",
       "    </tr>\n",
       "    <tr>\n",
       "      <th>3</th>\n",
       "      <td>0.493151</td>\n",
       "      <td>0.400000</td>\n",
       "      <td>0.000000</td>\n",
       "      <td>0.0</td>\n",
       "      <td>0.397959</td>\n",
       "      <td>0</td>\n",
       "      <td>1</td>\n",
       "      <td>0</td>\n",
       "      <td>0</td>\n",
       "      <td>0</td>\n",
       "      <td>...</td>\n",
       "      <td>0</td>\n",
       "      <td>0</td>\n",
       "      <td>0</td>\n",
       "      <td>0</td>\n",
       "      <td>0</td>\n",
       "      <td>0</td>\n",
       "      <td>0</td>\n",
       "      <td>1</td>\n",
       "      <td>0</td>\n",
       "      <td>0</td>\n",
       "    </tr>\n",
       "    <tr>\n",
       "      <th>4</th>\n",
       "      <td>0.150685</td>\n",
       "      <td>0.800000</td>\n",
       "      <td>0.000000</td>\n",
       "      <td>0.0</td>\n",
       "      <td>0.397959</td>\n",
       "      <td>0</td>\n",
       "      <td>1</td>\n",
       "      <td>0</td>\n",
       "      <td>0</td>\n",
       "      <td>0</td>\n",
       "      <td>...</td>\n",
       "      <td>0</td>\n",
       "      <td>0</td>\n",
       "      <td>0</td>\n",
       "      <td>0</td>\n",
       "      <td>0</td>\n",
       "      <td>0</td>\n",
       "      <td>0</td>\n",
       "      <td>0</td>\n",
       "      <td>0</td>\n",
       "      <td>0</td>\n",
       "    </tr>\n",
       "    <tr>\n",
       "      <th>...</th>\n",
       "      <td>...</td>\n",
       "      <td>...</td>\n",
       "      <td>...</td>\n",
       "      <td>...</td>\n",
       "      <td>...</td>\n",
       "      <td>...</td>\n",
       "      <td>...</td>\n",
       "      <td>...</td>\n",
       "      <td>...</td>\n",
       "      <td>...</td>\n",
       "      <td>...</td>\n",
       "      <td>...</td>\n",
       "      <td>...</td>\n",
       "      <td>...</td>\n",
       "      <td>...</td>\n",
       "      <td>...</td>\n",
       "      <td>...</td>\n",
       "      <td>...</td>\n",
       "      <td>...</td>\n",
       "      <td>...</td>\n",
       "      <td>...</td>\n",
       "    </tr>\n",
       "    <tr>\n",
       "      <th>45217</th>\n",
       "      <td>0.219178</td>\n",
       "      <td>0.800000</td>\n",
       "      <td>0.000000</td>\n",
       "      <td>0.0</td>\n",
       "      <td>0.397959</td>\n",
       "      <td>0</td>\n",
       "      <td>1</td>\n",
       "      <td>0</td>\n",
       "      <td>0</td>\n",
       "      <td>0</td>\n",
       "      <td>...</td>\n",
       "      <td>0</td>\n",
       "      <td>0</td>\n",
       "      <td>0</td>\n",
       "      <td>0</td>\n",
       "      <td>0</td>\n",
       "      <td>0</td>\n",
       "      <td>0</td>\n",
       "      <td>1</td>\n",
       "      <td>0</td>\n",
       "      <td>0</td>\n",
       "    </tr>\n",
       "    <tr>\n",
       "      <th>45218</th>\n",
       "      <td>0.301370</td>\n",
       "      <td>0.800000</td>\n",
       "      <td>0.000000</td>\n",
       "      <td>0.0</td>\n",
       "      <td>0.357143</td>\n",
       "      <td>0</td>\n",
       "      <td>1</td>\n",
       "      <td>0</td>\n",
       "      <td>0</td>\n",
       "      <td>0</td>\n",
       "      <td>...</td>\n",
       "      <td>0</td>\n",
       "      <td>0</td>\n",
       "      <td>0</td>\n",
       "      <td>0</td>\n",
       "      <td>0</td>\n",
       "      <td>0</td>\n",
       "      <td>0</td>\n",
       "      <td>1</td>\n",
       "      <td>0</td>\n",
       "      <td>0</td>\n",
       "    </tr>\n",
       "    <tr>\n",
       "      <th>45219</th>\n",
       "      <td>0.287671</td>\n",
       "      <td>0.800000</td>\n",
       "      <td>0.000000</td>\n",
       "      <td>0.0</td>\n",
       "      <td>0.500000</td>\n",
       "      <td>0</td>\n",
       "      <td>1</td>\n",
       "      <td>0</td>\n",
       "      <td>0</td>\n",
       "      <td>0</td>\n",
       "      <td>...</td>\n",
       "      <td>0</td>\n",
       "      <td>0</td>\n",
       "      <td>0</td>\n",
       "      <td>0</td>\n",
       "      <td>0</td>\n",
       "      <td>0</td>\n",
       "      <td>0</td>\n",
       "      <td>1</td>\n",
       "      <td>0</td>\n",
       "      <td>0</td>\n",
       "    </tr>\n",
       "    <tr>\n",
       "      <th>45220</th>\n",
       "      <td>0.369863</td>\n",
       "      <td>0.800000</td>\n",
       "      <td>0.747375</td>\n",
       "      <td>0.0</td>\n",
       "      <td>0.397959</td>\n",
       "      <td>0</td>\n",
       "      <td>1</td>\n",
       "      <td>0</td>\n",
       "      <td>0</td>\n",
       "      <td>0</td>\n",
       "      <td>...</td>\n",
       "      <td>0</td>\n",
       "      <td>0</td>\n",
       "      <td>0</td>\n",
       "      <td>0</td>\n",
       "      <td>0</td>\n",
       "      <td>0</td>\n",
       "      <td>0</td>\n",
       "      <td>1</td>\n",
       "      <td>0</td>\n",
       "      <td>0</td>\n",
       "    </tr>\n",
       "    <tr>\n",
       "      <th>45221</th>\n",
       "      <td>0.246575</td>\n",
       "      <td>0.800000</td>\n",
       "      <td>0.000000</td>\n",
       "      <td>0.0</td>\n",
       "      <td>0.602041</td>\n",
       "      <td>0</td>\n",
       "      <td>0</td>\n",
       "      <td>1</td>\n",
       "      <td>0</td>\n",
       "      <td>0</td>\n",
       "      <td>...</td>\n",
       "      <td>0</td>\n",
       "      <td>0</td>\n",
       "      <td>0</td>\n",
       "      <td>0</td>\n",
       "      <td>0</td>\n",
       "      <td>0</td>\n",
       "      <td>0</td>\n",
       "      <td>1</td>\n",
       "      <td>0</td>\n",
       "      <td>0</td>\n",
       "    </tr>\n",
       "  </tbody>\n",
       "</table>\n",
       "<p>45222 rows × 95 columns</p>\n",
       "</div>"
      ],
      "text/plain": [
       "            age  education-num  capital-gain  capital-loss  hours-per-week  \\\n",
       "0      0.301370       0.800000      0.667492           0.0        0.397959   \n",
       "1      0.452055       0.800000      0.000000           0.0        0.122449   \n",
       "2      0.287671       0.533333      0.000000           0.0        0.397959   \n",
       "3      0.493151       0.400000      0.000000           0.0        0.397959   \n",
       "4      0.150685       0.800000      0.000000           0.0        0.397959   \n",
       "...         ...            ...           ...           ...             ...   \n",
       "45217  0.219178       0.800000      0.000000           0.0        0.397959   \n",
       "45218  0.301370       0.800000      0.000000           0.0        0.357143   \n",
       "45219  0.287671       0.800000      0.000000           0.0        0.500000   \n",
       "45220  0.369863       0.800000      0.747375           0.0        0.397959   \n",
       "45221  0.246575       0.800000      0.000000           0.0        0.602041   \n",
       "\n",
       "       workclass_ Local-gov  workclass_ Private  workclass_ Self-emp-inc  \\\n",
       "0                         0                   0                        0   \n",
       "1                         0                   0                        0   \n",
       "2                         0                   1                        0   \n",
       "3                         0                   1                        0   \n",
       "4                         0                   1                        0   \n",
       "...                     ...                 ...                      ...   \n",
       "45217                     0                   1                        0   \n",
       "45218                     0                   1                        0   \n",
       "45219                     0                   1                        0   \n",
       "45220                     0                   1                        0   \n",
       "45221                     0                   0                        1   \n",
       "\n",
       "       workclass_ Self-emp-not-inc  workclass_ State-gov  ...  \\\n",
       "0                                0                     1  ...   \n",
       "1                                1                     0  ...   \n",
       "2                                0                     0  ...   \n",
       "3                                0                     0  ...   \n",
       "4                                0                     0  ...   \n",
       "...                            ...                   ...  ...   \n",
       "45217                            0                     0  ...   \n",
       "45218                            0                     0  ...   \n",
       "45219                            0                     0  ...   \n",
       "45220                            0                     0  ...   \n",
       "45221                            0                     0  ...   \n",
       "\n",
       "       native-country_ Portugal  native-country_ Puerto-Rico  \\\n",
       "0                             0                            0   \n",
       "1                             0                            0   \n",
       "2                             0                            0   \n",
       "3                             0                            0   \n",
       "4                             0                            0   \n",
       "...                         ...                          ...   \n",
       "45217                         0                            0   \n",
       "45218                         0                            0   \n",
       "45219                         0                            0   \n",
       "45220                         0                            0   \n",
       "45221                         0                            0   \n",
       "\n",
       "       native-country_ Scotland  native-country_ South  \\\n",
       "0                             0                      0   \n",
       "1                             0                      0   \n",
       "2                             0                      0   \n",
       "3                             0                      0   \n",
       "4                             0                      0   \n",
       "...                         ...                    ...   \n",
       "45217                         0                      0   \n",
       "45218                         0                      0   \n",
       "45219                         0                      0   \n",
       "45220                         0                      0   \n",
       "45221                         0                      0   \n",
       "\n",
       "       native-country_ Taiwan  native-country_ Thailand  \\\n",
       "0                           0                         0   \n",
       "1                           0                         0   \n",
       "2                           0                         0   \n",
       "3                           0                         0   \n",
       "4                           0                         0   \n",
       "...                       ...                       ...   \n",
       "45217                       0                         0   \n",
       "45218                       0                         0   \n",
       "45219                       0                         0   \n",
       "45220                       0                         0   \n",
       "45221                       0                         0   \n",
       "\n",
       "       native-country_ Trinadad&Tobago  native-country_ United-States  \\\n",
       "0                                    0                              1   \n",
       "1                                    0                              1   \n",
       "2                                    0                              1   \n",
       "3                                    0                              1   \n",
       "4                                    0                              0   \n",
       "...                                ...                            ...   \n",
       "45217                                0                              1   \n",
       "45218                                0                              1   \n",
       "45219                                0                              1   \n",
       "45220                                0                              1   \n",
       "45221                                0                              1   \n",
       "\n",
       "       native-country_ Vietnam  native-country_ Yugoslavia  \n",
       "0                            0                           0  \n",
       "1                            0                           0  \n",
       "2                            0                           0  \n",
       "3                            0                           0  \n",
       "4                            0                           0  \n",
       "...                        ...                         ...  \n",
       "45217                        0                           0  \n",
       "45218                        0                           0  \n",
       "45219                        0                           0  \n",
       "45220                        0                           0  \n",
       "45221                        0                           0  \n",
       "\n",
       "[45222 rows x 95 columns]"
      ]
     },
     "execution_count": 8,
     "metadata": {},
     "output_type": "execute_result"
    }
   ],
   "source": [
    "pd.get_dummies(data=features_log_minmax_transform, drop_first=True)"
   ]
  },
  {
   "cell_type": "code",
   "execution_count": 51,
   "metadata": {
    "scrolled": true,
    "tags": []
   },
   "outputs": [
    {
     "name": "stdout",
     "output_type": "stream",
     "text": [
      "95 total features after one-hot encoding.\n",
      "['age', 'education-num', 'capital-gain', 'capital-loss', 'hours-per-week', 'workclass_ Local-gov', 'workclass_ Private', 'workclass_ Self-emp-inc', 'workclass_ Self-emp-not-inc', 'workclass_ State-gov', 'workclass_ Without-pay', 'education_level_ 11th', 'education_level_ 12th', 'education_level_ 1st-4th', 'education_level_ 5th-6th', 'education_level_ 7th-8th', 'education_level_ 9th', 'education_level_ Assoc-acdm', 'education_level_ Assoc-voc', 'education_level_ Bachelors', 'education_level_ Doctorate', 'education_level_ HS-grad', 'education_level_ Masters', 'education_level_ Preschool', 'education_level_ Prof-school', 'education_level_ Some-college', 'marital-status_ Married-AF-spouse', 'marital-status_ Married-civ-spouse', 'marital-status_ Married-spouse-absent', 'marital-status_ Never-married', 'marital-status_ Separated', 'marital-status_ Widowed', 'occupation_ Armed-Forces', 'occupation_ Craft-repair', 'occupation_ Exec-managerial', 'occupation_ Farming-fishing', 'occupation_ Handlers-cleaners', 'occupation_ Machine-op-inspct', 'occupation_ Other-service', 'occupation_ Priv-house-serv', 'occupation_ Prof-specialty', 'occupation_ Protective-serv', 'occupation_ Sales', 'occupation_ Tech-support', 'occupation_ Transport-moving', 'relationship_ Not-in-family', 'relationship_ Other-relative', 'relationship_ Own-child', 'relationship_ Unmarried', 'relationship_ Wife', 'race_ Asian-Pac-Islander', 'race_ Black', 'race_ Other', 'race_ White', 'sex_ Male', 'native-country_ Canada', 'native-country_ China', 'native-country_ Columbia', 'native-country_ Cuba', 'native-country_ Dominican-Republic', 'native-country_ Ecuador', 'native-country_ El-Salvador', 'native-country_ England', 'native-country_ France', 'native-country_ Germany', 'native-country_ Greece', 'native-country_ Guatemala', 'native-country_ Haiti', 'native-country_ Holand-Netherlands', 'native-country_ Honduras', 'native-country_ Hong', 'native-country_ Hungary', 'native-country_ India', 'native-country_ Iran', 'native-country_ Ireland', 'native-country_ Italy', 'native-country_ Jamaica', 'native-country_ Japan', 'native-country_ Laos', 'native-country_ Mexico', 'native-country_ Nicaragua', 'native-country_ Outlying-US(Guam-USVI-etc)', 'native-country_ Peru', 'native-country_ Philippines', 'native-country_ Poland', 'native-country_ Portugal', 'native-country_ Puerto-Rico', 'native-country_ Scotland', 'native-country_ South', 'native-country_ Taiwan', 'native-country_ Thailand', 'native-country_ Trinadad&Tobago', 'native-country_ United-States', 'native-country_ Vietnam', 'native-country_ Yugoslavia']\n"
     ]
    }
   ],
   "source": [
    "# TODO: One-hot encode the 'features_log_minmax_transform' data using pandas.get_dummies()\n",
    "# I use drop_first=True in encoding to avoid correlated features.\n",
    "features_final = pd.get_dummies(data=features_log_minmax_transform, drop_first=True)\n",
    "\n",
    "# TODO: Encode the 'income_raw' data to numerical values\n",
    "income = pd.get_dummies(data=income_raw, drop_first=True)\n",
    "income = income.to_numpy().ravel()\n",
    "\n",
    "# Print the number of features after one-hot encoding\n",
    "encoded = list(features_final.columns)\n",
    "print(\"{} total features after one-hot encoding.\".format(len(encoded)))\n",
    "\n",
    "# Uncomment the following line to see the encoded feature names\n",
    "print(encoded)"
   ]
  },
  {
   "cell_type": "markdown",
   "metadata": {},
   "source": [
    "### Shuffle and Split Data\n",
    "Now all _categorical variables_ have been converted into numerical features, and all numerical features have been normalized. As always, we will now split the data (both features and their labels) into training and test sets. 80% of the data will be used for training and 20% for testing.\n",
    "\n",
    "Run the code cell below to perform this split."
   ]
  },
  {
   "cell_type": "code",
   "execution_count": 52,
   "metadata": {
    "tags": []
   },
   "outputs": [
    {
     "name": "stdout",
     "output_type": "stream",
     "text": [
      "Training set has 36177 samples.\n",
      "Testing set has 9045 samples.\n"
     ]
    }
   ],
   "source": [
    "# Import train_test_split\n",
    "from sklearn.model_selection import train_test_split\n",
    "\n",
    "# Split the 'features' and 'income' data into training and testing sets\n",
    "X_train, X_test, y_train, y_test = train_test_split(features_final, \n",
    "                                                    income, \n",
    "                                                    test_size = 0.2, \n",
    "                                                    random_state = 0)\n",
    "\n",
    "# Show the results of the split\n",
    "print(\"Training set has {} samples.\".format(X_train.shape[0]))\n",
    "print(\"Testing set has {} samples.\".format(X_test.shape[0]))"
   ]
  },
  {
   "cell_type": "markdown",
   "metadata": {},
   "source": [
    "----\n",
    "## Evaluating Model Performance\n",
    "In this section, we will investigate four different algorithms, and determine which is best at modeling the data. Three of these algorithms will be supervised learners of your choice, and the fourth algorithm is known as a *naive predictor*."
   ]
  },
  {
   "cell_type": "markdown",
   "metadata": {},
   "source": [
    "### Metrics and the Naive Predictor\n",
    "*CharityML*, equipped with their research, knows individuals that make more than \\$50,000 are most likely to donate to their charity. Because of this, *CharityML* is particularly interested in predicting who makes more than \\$50,000 accurately. It would seem that using **accuracy** as a metric for evaluating a particular model's performace would be appropriate. Additionally, identifying someone that *does not* make more than \\$50,000 as someone who does would be detrimental to *CharityML*, since they are looking to find individuals willing to donate. Therefore, a model's ability to precisely predict those that make more than \\$50,000 is *more important* than the model's ability to **recall** those individuals. We can use **F-beta score** as a metric that considers both precision and recall:\n",
    "\n",
    "$$ F_{\\beta} = (1 + \\beta^2) \\cdot \\frac{precision \\cdot recall}{\\left( \\beta^2 \\cdot precision \\right) + recall} $$\n",
    "\n",
    "In particular, when $\\beta = 0.5$, more emphasis is placed on precision. This is called the **F$_{0.5}$ score** (or F-score for simplicity).\n",
    "\n",
    "Looking at the distribution of classes (those who make at most \\$50,000, and those who make more), it's clear most individuals do not make more than \\$50,000. This can greatly affect **accuracy**, since we could simply say *\"this person does not make more than \\$50,000\"* and generally be right, without ever looking at the data! Making such a statement would be called **naive**, since we have not considered any information to substantiate the claim. It is always important to consider the *naive prediction* for your data, to help establish a benchmark for whether a model is performing well. That been said, using that prediction would be pointless: If we predicted all people made less than \\$50,000, *CharityML* would identify no one as donors. \n",
    "\n",
    "\n",
    "#### Note: Recap of accuracy, precision, recall\n",
    "\n",
    "** Accuracy ** measures how often the classifier makes the correct prediction. It’s the ratio of the number of correct predictions to the total number of predictions (the number of test data points).\n",
    "\n",
    "** Precision ** tells us what proportion of messages we classified as spam, actually were spam.\n",
    "It is a ratio of true positives(words classified as spam, and which are actually spam) to all positives(all words classified as spam, irrespective of whether that was the correct classificatio), in other words it is the ratio of\n",
    "\n",
    "`[True Positives/(True Positives + False Positives)]`\n",
    "\n",
    "** Recall(sensitivity)** tells us what proportion of messages that actually were spam were classified by us as spam.\n",
    "It is a ratio of true positives(words classified as spam, and which are actually spam) to all the words that were actually spam, in other words it is the ratio of\n",
    "\n",
    "`[True Positives/(True Positives + False Negatives)]`\n",
    "\n",
    "For classification problems that are skewed in their classification distributions like in our case, for example if we had a 100 text messages and only 2 were spam and the rest 98 weren't, accuracy by itself is not a very good metric. We could classify 90 messages as not spam(including the 2 that were spam but we classify them as not spam, hence they would be false negatives) and 10 as spam(all 10 false positives) and still get a reasonably good accuracy score. For such cases, precision and recall come in very handy. These two metrics can be combined to get the F1 score, which is weighted average(harmonic mean) of the precision and recall scores. This score can range from 0 to 1, with 1 being the best possible F1 score(we take the harmonic mean as we are dealing with ratios)."
   ]
  },
  {
   "cell_type": "markdown",
   "metadata": {},
   "source": [
    "### Question 1 - Naive Predictor Performace\n",
    "* If we chose a model that always predicted an individual made more than $50,000, what would  that model's accuracy and F-score be on this dataset? You must use the code cell below and assign your results to `'accuracy'` and `'fscore'` to be used later.\n",
    "\n",
    "** Please note ** that the the purpose of generating a naive predictor is simply to show what a base model without any intelligence would look like. In the real world, ideally your base model would be either the results of a previous model or could be based on a research paper upon which you are looking to improve. When there is no benchmark model set, getting a result better than random choice is a place you could start from.\n",
    "\n",
    "** HINT: ** \n",
    "\n",
    "* When we have a model that always predicts '1' (i.e. the individual makes more than 50k) then our model will have no True Negatives(TN) or False Negatives(FN) as we are not making any negative('0' value) predictions. Therefore our Accuracy in this case becomes the same as our Precision(True Positives/(True Positives + False Positives)) as every prediction that we have made with value '1' that should have '0' becomes a False Positive; therefore our denominator in this case is the total number of records we have in total. \n",
    "* Our Recall score(True Positives/(True Positives + False Negatives)) in this setting becomes 1 as we have no False Negatives."
   ]
  },
  {
   "cell_type": "code",
   "execution_count": 54,
   "metadata": {
    "collapsed": true,
    "jupyter": {
     "outputs_hidden": true
    }
   },
   "outputs": [
    {
     "name": "stdout",
     "output_type": "stream",
     "text": [
      "Naive Predictor: [Accuracy score: 0.2478, F-score: 0.2917]\n"
     ]
    }
   ],
   "source": [
    "# Counting the ones as this is the naive case. Note that 'income' is the 'income_raw' data \n",
    "# encoded to numerical values done in the data preprocessing step.\n",
    "TP = income.sum()\n",
    "FP = income.size - TP # Specific to the naive case\n",
    "\n",
    "TN = 0 # No predicted negatives in the naive case\n",
    "FN = 0 # No predicted negatives in the naive case\n",
    "\n",
    "# TODO: Calculate accuracy, precision and recall\n",
    "accuracy = (TP + TN) / (TP + TN + FP + FN)\n",
    "recall = TP / (TP + FN)\n",
    "precision = TP / (TP + FP)\n",
    "\n",
    "# TODO: Calculate F-score using the formula above for beta = 0.5 and correct values for precision and recall.\n",
    "beta = 0.5\n",
    "fscore = (1 + beta**2) * (precision * recall) / (beta**2 * precision + recall)\n",
    "\n",
    "# Print the results \n",
    "print(\"Naive Predictor: [Accuracy score: {:.4f}, F-score: {:.4f}]\".format(accuracy, fscore))"
   ]
  },
  {
   "cell_type": "markdown",
   "metadata": {},
   "source": [
    "###  Supervised Learning Models\n",
    "**The following are some of the supervised learning models that are currently available in** [`scikit-learn`](http://scikit-learn.org/stable/supervised_learning.html) **that you may choose from:**\n",
    "- Gaussian Naive Bayes (GaussianNB)\n",
    "- Decision Trees\n",
    "- Ensemble Methods (Bagging, AdaBoost, Random Forest, Gradient Boosting)\n",
    "- K-Nearest Neighbors (KNeighbors)\n",
    "- Stochastic Gradient Descent Classifier (SGDC)\n",
    "- Support Vector Machines (SVM)\n",
    "- Logistic Regression"
   ]
  },
  {
   "cell_type": "markdown",
   "metadata": {},
   "source": [
    "### Question 2 - Model Application\n",
    "List three of the supervised learning models above that are appropriate for this problem that you will test on the census data. For each model chosen\n",
    "\n",
    "- Describe one real-world application in industry where the model can be applied. \n",
    "- What are the strengths of the model; when does it perform well?\n",
    "- What are the weaknesses of the model; when does it perform poorly?\n",
    "- What makes this model a good candidate for the problem, given what you know about the data?\n",
    "\n",
    "** HINT: **\n",
    "\n",
    "Structure your answer in the same format as above^, with 4 parts for each of the three models you pick. Please include references with your answer."
   ]
  },
  {
   "cell_type": "markdown",
   "metadata": {},
   "source": [
    "**Answer: **\n",
    "#### Logistic Regression\n",
    "- This model is good at prediting binary labels (sick/not_sick, rich/not_rich, male/female). It can be used in medical applications to predict positiveness from symptoms.\n",
    "- Strengths:\n",
    "#### Decsion Trees\n",
    "- This model is perfect for troubleshooting machines malfunctions in factories. It can start asking questions about the various symptoms and try to find the root cause.\n",
    "- Strengths: simple to understand, interprete, and visualize.  \n",
    "Performs well at classification.\n",
    "- Weaknesses: Tends to overfit and very sensitive to any change in data that can completely change tree structure.  \n",
    "Performs poorly when data is biased.\n",
    "- I think it is a good candidate for current problem because the problem is a clissification problem with multiple categorical features.\n",
    "#### Stochastic Gradient Descent Classifier (SGDC)\n",
    "- \n"
   ]
  },
  {
   "cell_type": "markdown",
   "metadata": {},
   "source": [
    "### Implementation - Creating a Training and Predicting Pipeline\n",
    "To properly evaluate the performance of each model you've chosen, it's important that you create a training and predicting pipeline that allows you to quickly and effectively train models using various sizes of training data and perform predictions on the testing data. Your implementation here will be used in the following section.\n",
    "In the code block below, you will need to implement the following:\n",
    " - Import `fbeta_score` and `accuracy_score` from [`sklearn.metrics`](http://scikit-learn.org/stable/modules/classes.html#sklearn-metrics-metrics).\n",
    " - Fit the learner to the sampled training data and record the training time.\n",
    " - Perform predictions on the test data `X_test`, and also on the first 300 training points `X_train[:300]`.\n",
    "   - Record the total prediction time.\n",
    " - Calculate the accuracy score for both the training subset and testing set.\n",
    " - Calculate the F-score for both the training subset and testing set.\n",
    "   - Make sure that you set the `beta` parameter!"
   ]
  },
  {
   "cell_type": "code",
   "execution_count": 55,
   "metadata": {
    "collapsed": true,
    "jupyter": {
     "outputs_hidden": true
    }
   },
   "outputs": [],
   "source": [
    "# TODO: Import two metrics from sklearn - fbeta_score and accuracy_score\n",
    "from sklearn.metrics import fbeta_score, accuracy_score\n",
    "\n",
    "def train_predict(learner, sample_size, X_train, y_train, X_test, y_test): \n",
    "    '''\n",
    "    inputs:\n",
    "       - learner: the learning algorithm to be trained and predicted on\n",
    "       - sample_size: the size of samples (number) to be drawn from training set\n",
    "       - X_train: features training set\n",
    "       - y_train: income training set\n",
    "       - X_test: features testing set\n",
    "       - y_test: income testing set\n",
    "    '''\n",
    "    \n",
    "    results = {}\n",
    "    \n",
    "    # TODO: Fit the learner to the training data using slicing with 'sample_size' using .fit(training_features[:], training_labels[:])\n",
    "    start = time() # Get start time\n",
    "    learner = learner\n",
    "    learner.fit(X_train, y_train)\n",
    "    end = time() # Get end time\n",
    "    \n",
    "    # TODO: Calculate the training time\n",
    "    results['train_time'] = end - start\n",
    "        \n",
    "    # TODO: Get the predictions on the test set(X_test),\n",
    "    #       then get predictions on the first 300 training samples(X_train) using .predict()\n",
    "    start = time() # Get start time\n",
    "    predictions_test = learner.predict(X_test)\n",
    "    predictions_train = learner.predict(X_train.iloc[:sample_size, :])\n",
    "    end = time() # Get end time\n",
    "    \n",
    "    # TODO: Calculate the total prediction time\n",
    "    results['pred_time'] = end - start\n",
    "            \n",
    "    # TODO: Compute accuracy on the first 300 training samples which is y_train[:300]\n",
    "    results['acc_train'] = accuracy_score(y_train[:sample_size], predictions_train)\n",
    "        \n",
    "    # TODO: Compute accuracy on test set using accuracy_score()\n",
    "    results['acc_test'] = accuracy_score(y_test, predictions_test)\n",
    "    \n",
    "    # TODO: Compute F-score on the the first 300 training samples using fbeta_score()\n",
    "    results['f_train'] = fbeta_score(y_train[:sample_size], predictions_train, beta=0.5)\n",
    "        \n",
    "    # TODO: Compute F-score on the test set which is y_test\n",
    "    results['f_test'] = fbeta_score(y_test, predictions_test, beta=0.5)\n",
    "       \n",
    "    # Success\n",
    "    print(\"{} trained on {} samples.\".format(learner.__class__.__name__, sample_size))\n",
    "        \n",
    "    # Return the results\n",
    "    return results"
   ]
  },
  {
   "cell_type": "markdown",
   "metadata": {},
   "source": [
    "### Implementation: Initial Model Evaluation\n",
    "In the code cell, you will need to implement the following:\n",
    "- Import the three supervised learning models you've discussed in the previous section.\n",
    "- Initialize the three models and store them in `'clf_A'`, `'clf_B'`, and `'clf_C'`.\n",
    "  - Use a `'random_state'` for each model you use, if provided.\n",
    "  - **Note:** Use the default settings for each model — you will tune one specific model in a later section.\n",
    "- Calculate the number of records equal to 1%, 10%, and 100% of the training data.\n",
    "  - Store those values in `'samples_1'`, `'samples_10'`, and `'samples_100'` respectively.\n",
    "\n",
    "**Note:** Depending on which algorithms you chose, the following implementation may take some time to run!"
   ]
  },
  {
   "cell_type": "code",
   "execution_count": 74,
   "metadata": {
    "collapsed": true,
    "jupyter": {
     "outputs_hidden": true
    }
   },
   "outputs": [
    {
     "name": "stdout",
     "output_type": "stream",
     "text": [
      "LogisticRegression trained on 361 samples.\n",
      "LogisticRegression trained on 3617 samples.\n",
      "LogisticRegression trained on 36177 samples.\n",
      "DecisionTreeClassifier trained on 361 samples.\n",
      "DecisionTreeClassifier trained on 3617 samples.\n",
      "DecisionTreeClassifier trained on 36177 samples.\n",
      "SGDClassifier trained on 361 samples.\n",
      "SGDClassifier trained on 3617 samples.\n",
      "SGDClassifier trained on 36177 samples.\n"
     ]
    },
    {
     "name": "stderr",
     "output_type": "stream",
     "text": [
      "c:\\Users\\Ahmed\\Courses\\EGFWD\\Data\\Cross-skill\\ml-donors-project\\cd0025-supervised-learning\\starter\\visuals.py:157: UserWarning: Tight layout not applied. tight_layout cannot make axes width small enough to accommodate all axes decorations\n",
      "  pl.tight_layout()\n"
     ]
    },
    {
     "data": {
      "image/png": "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",
      "text/plain": [
       "<Figure size 792x576 with 6 Axes>"
      ]
     },
     "metadata": {
      "needs_background": "light"
     },
     "output_type": "display_data"
    }
   ],
   "source": [
    "# TODO: Import the three supervised learning models from sklearn\n",
    "from sklearn.tree import DecisionTreeClassifier\n",
    "from sklearn.linear_model import LogisticRegression, SGDClassifier\n",
    "\n",
    "# TODO: Initialize the three models\n",
    "clf_A = LogisticRegression(solver='newton-cg')\n",
    "clf_B = DecisionTreeClassifier(max_depth=10)\n",
    "clf_C = SGDClassifier(loss='hinge') # 'hinge' gives a linear SVM\n",
    "\n",
    "# TODO: Calculate the number of samples for 1%, 10%, and 100% of the training data\n",
    "# HINT: samples_100 is the entire training set i.e. len(y_train)\n",
    "# HINT: samples_10 is 10% of samples_100 (ensure to set the count of the values to be `int` and not `float`)\n",
    "# HINT: samples_1 is 1% of samples_100 (ensure to set the count of the values to be `int` and not `float`)\n",
    "samples_100 = len(y_train)\n",
    "samples_10 = samples_100 // 10\n",
    "samples_1 = samples_100 // 100\n",
    "\n",
    "# Collect results on the learners\n",
    "results = {}\n",
    "\n",
    "for clf in [clf_A, clf_B, clf_C]:\n",
    "    clf_name = clf.__class__.__name__\n",
    "    results[clf_name] = {}\n",
    "    for i, samples in enumerate([samples_1, samples_10, samples_100]):\n",
    "        results[clf_name][i] = \\\n",
    "        train_predict(clf, samples, X_train, y_train, X_test, y_test)\n",
    "\n",
    "# Run metrics visualization for the three supervised learning models chosen\n",
    "vs.evaluate(results, accuracy, fscore)"
   ]
  },
  {
   "cell_type": "code",
   "execution_count": 75,
   "metadata": {},
   "outputs": [
    {
     "data": {
      "image/png": "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",
      "text/plain": [
       "<Figure size 432x288 with 1 Axes>"
      ]
     },
     "metadata": {
      "needs_background": "light"
     },
     "output_type": "display_data"
    }
   ],
   "source": [
    "import matplotlib.pyplot as plt\n",
    "from sklearn.tree import plot_tree\n",
    "plt.figure()\n",
    "plot_tree(clf_B)\n",
    "plt.show();"
   ]
  },
  {
   "cell_type": "markdown",
   "metadata": {},
   "source": [
    "----\n",
    "## Improving Results\n",
    "In this final section, you will choose from the three supervised learning models the *best* model to use on the student data. You will then perform a grid search optimization for the model over the entire training set (`X_train` and `y_train`) by tuning at least one parameter to improve upon the untuned model's F-score. "
   ]
  },
  {
   "cell_type": "markdown",
   "metadata": {},
   "source": [
    "### Question 3 - Choosing the Best Model\n",
    "\n",
    "* Based on the evaluation you performed earlier, in one to two paragraphs, explain to *CharityML* which of the three models you believe to be most appropriate for the task of identifying individuals that make more than \\$50,000. \n",
    "\n",
    "** HINT: ** \n",
    "Look at the graph at the bottom left from the cell above(the visualization created by `vs.evaluate(results, accuracy, fscore)`) and check the F score for the testing set when 100% of the training set is used. Which model has the highest score? Your answer should include discussion of the:\n",
    "* metrics - F score on the testing when 100% of the training data is used, \n",
    "* prediction/training time\n",
    "* the algorithm's suitability for the data."
   ]
  },
  {
   "cell_type": "markdown",
   "metadata": {},
   "source": [
    "**Answer: **"
   ]
  },
  {
   "cell_type": "markdown",
   "metadata": {},
   "source": [
    "### Question 4 - Describing the Model in Layman's Terms\n",
    "\n",
    "* In one to two paragraphs, explain to *CharityML*, in layman's terms, how the final model chosen is supposed to work. Be sure that you are describing the major qualities of the model, such as how the model is trained and how the model makes a prediction. Avoid using advanced mathematical jargon, such as describing equations.\n",
    "\n",
    "** HINT: **\n",
    "\n",
    "When explaining your model, if using external resources please include all citations."
   ]
  },
  {
   "cell_type": "markdown",
   "metadata": {},
   "source": [
    "**Answer: ** "
   ]
  },
  {
   "cell_type": "markdown",
   "metadata": {},
   "source": [
    "### Implementation: Model Tuning\n",
    "Fine tune the chosen model. Use grid search (`GridSearchCV`) with at least one important parameter tuned with at least 3 different values. You will need to use the entire training set for this. In the code cell below, you will need to implement the following:\n",
    "- Import [`sklearn.grid_search.GridSearchCV`](http://scikit-learn.org/0.17/modules/generated/sklearn.grid_search.GridSearchCV.html) and [`sklearn.metrics.make_scorer`](http://scikit-learn.org/stable/modules/generated/sklearn.metrics.make_scorer.html).\n",
    "- Initialize the classifier you've chosen and store it in `clf`.\n",
    " - Set a `random_state` if one is available to the same state you set before.\n",
    "- Create a dictionary of parameters you wish to tune for the chosen model.\n",
    " - Example: `parameters = {'parameter' : [list of values]}`.\n",
    " - **Note:** Avoid tuning the `max_features` parameter of your learner if that parameter is available!\n",
    "- Use `make_scorer` to create an `fbeta_score` scoring object (with $\\beta = 0.5$).\n",
    "- Perform grid search on the classifier `clf` using the `'scorer'`, and store it in `grid_obj`.\n",
    "- Fit the grid search object to the training data (`X_train`, `y_train`), and store it in `grid_fit`.\n",
    "\n",
    "**Note:** Depending on the algorithm chosen and the parameter list, the following implementation may take some time to run!"
   ]
  },
  {
   "cell_type": "code",
   "execution_count": 78,
   "metadata": {
    "collapsed": true,
    "jupyter": {
     "outputs_hidden": true
    }
   },
   "outputs": [
    {
     "name": "stdout",
     "output_type": "stream",
     "text": [
      "Unoptimized model\n",
      "------\n",
      "Accuracy score on testing data: 0.8155\n",
      "F-score on testing data: 0.6215\n",
      "\n",
      "Optimized Model\n",
      "------\n",
      "Final accuracy score on the testing data: 0.8523\n",
      "Final F-score on the testing data: 0.7224\n"
     ]
    }
   ],
   "source": [
    "# TODO: Import 'GridSearchCV', 'make_scorer', and any other necessary libraries\n",
    "from sklearn.model_selection import GridSearchCV\n",
    "from sklearn.metrics import make_scorer\n",
    "\n",
    "# TODO: Initialize the classifier\n",
    "clf = DecisionTreeClassifier()\n",
    "\n",
    "# TODO: Create the parameters list you wish to tune, using a dictionary if needed.\n",
    "# HINT: parameters = {'parameter_1': [value1, value2], 'parameter_2': [value1, value2]}\n",
    "parameters = {'max_depth': [i for i in range(4,15)]}\n",
    "\n",
    "# TODO: Make an fbeta_score scoring object using make_scorer()\n",
    "scorer = make_scorer(fbeta_score, beta=0.5)\n",
    "\n",
    "# TODO: Perform grid search on the classifier using 'scorer' as the scoring method using GridSearchCV()\n",
    "grid_obj = GridSearchCV(clf, param_grid=parameters, scoring=scorer)\n",
    "\n",
    "# TODO: Fit the grid search object to the training data and find the optimal parameters using fit()\n",
    "grid_fit = grid_obj.fit(X_train, y_train)\n",
    "\n",
    "# Get the estimator\n",
    "best_clf = grid_fit.best_estimator_\n",
    "\n",
    "# Make predictions using the unoptimized and model\n",
    "predictions = (clf.fit(X_train, y_train)).predict(X_test)\n",
    "best_predictions = best_clf.predict(X_test)\n",
    "\n",
    "# Report the before-and-afterscores\n",
    "print(\"Unoptimized model\\n------\")\n",
    "print(\"Accuracy score on testing data: {:.4f}\".format(accuracy_score(y_test, predictions)))\n",
    "print(\"F-score on testing data: {:.4f}\".format(fbeta_score(y_test, predictions, beta = 0.5)))\n",
    "print(\"\\nOptimized Model\\n------\")\n",
    "print(\"Final accuracy score on the testing data: {:.4f}\".format(accuracy_score(y_test, best_predictions)))\n",
    "print(\"Final F-score on the testing data: {:.4f}\".format(fbeta_score(y_test, best_predictions, beta = 0.5)))"
   ]
  },
  {
   "cell_type": "code",
   "execution_count": 79,
   "metadata": {},
   "outputs": [
    {
     "data": {
      "text/plain": [
       "DecisionTreeClassifier(max_depth=6)"
      ]
     },
     "execution_count": 79,
     "metadata": {},
     "output_type": "execute_result"
    }
   ],
   "source": [
    "best_clf"
   ]
  },
  {
   "cell_type": "markdown",
   "metadata": {},
   "source": [
    "### Question 5 - Final Model Evaluation\n",
    "\n",
    "* What is your optimized model's accuracy and F-score on the testing data? \n",
    "* Are these scores better or worse than the unoptimized model? \n",
    "* How do the results from your optimized model compare to the naive predictor benchmarks you found earlier in **Question 1**?_  \n",
    "\n",
    "**Note:** Fill in the table below with your results, and then provide discussion in the **Answer** box."
   ]
  },
  {
   "cell_type": "markdown",
   "metadata": {},
   "source": [
    "#### Results:\n",
    "\n",
    "|     Metric     | Unoptimized Model | Optimized Model |\n",
    "| :------------: | :---------------: | :-------------: | \n",
<<<<<<< HEAD
    "| Accuracy Score |     0.8151        |    0.8523       |\n",
    "| F-score        |     0.6208        |    0.7224       |\n"
=======
    "| Accuracy Score |     0.8399        |    0.8401       |\n",
    "| F-score        |     0.6743        |    0.6805       |\n"
>>>>>>> c8b0151d0382f9bcaac8463aed38b3f3256f58d8
   ]
  },
  {
   "cell_type": "markdown",
   "metadata": {},
   "source": [
    "**Answer: **"
   ]
  },
  {
   "cell_type": "markdown",
   "metadata": {},
   "source": [
    "----\n",
    "## Feature Importance\n",
    "\n",
    "An important task when performing supervised learning on a dataset like the census data we study here is determining which features provide the most predictive power. By focusing on the relationship between only a few crucial features and the target label we simplify our understanding of the phenomenon, which is most always a useful thing to do. In the case of this project, that means we wish to identify a small number of features that most strongly predict whether an individual makes at most or more than \\$50,000.\n",
    "\n",
    "Choose a scikit-learn classifier (e.g., adaboost, random forests) that has a `feature_importance_` attribute, which is a function that ranks the importance of features according to the chosen classifier.  In the next python cell fit this classifier to training set and use this attribute to determine the top 5 most important features for the census dataset."
   ]
  },
  {
   "cell_type": "markdown",
   "metadata": {},
   "source": [
    "### Question 6 - Feature Relevance Observation\n",
    "When **Exploring the Data**, it was shown there are thirteen available features for each individual on record in the census data. Of these thirteen records, which five features do you believe to be most important for prediction, and in what order would you rank them and why?"
   ]
  },
  {
   "cell_type": "markdown",
   "metadata": {},
   "source": [
    "**Answer:**"
   ]
  },
  {
   "cell_type": "markdown",
   "metadata": {},
   "source": [
    "### Implementation - Extracting Feature Importance\n",
    "Choose a `scikit-learn` supervised learning algorithm that has a `feature_importance_` attribute availble for it. This attribute is a function that ranks the importance of each feature when making predictions based on the chosen algorithm.\n",
    "\n",
    "In the code cell below, you will need to implement the following:\n",
    " - Import a supervised learning model from sklearn if it is different from the three used earlier.\n",
    " - Train the supervised model on the entire training set.\n",
    " - Extract the feature importances using `'.feature_importances_'`."
   ]
  },
  {
   "cell_type": "code",
   "execution_count": 68,
   "metadata": {
    "collapsed": true,
    "jupyter": {
     "outputs_hidden": true
    }
   },
   "outputs": [
    {
     "data": {
      "image/png": "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",
      "text/plain": [
       "<Figure size 648x360 with 1 Axes>"
      ]
     },
     "metadata": {
      "needs_background": "light"
     },
     "output_type": "display_data"
    }
   ],
   "source": [
    "# TODO: Import a supervised learning model that has 'feature_importances_'\n",
    "\n",
    "\n",
    "# TODO: Train the supervised model on the training set using .fit(X_train, y_train)\n",
    "model = DecisionTreeClassifier()\n",
    "model.fit(X_train, y_train)\n",
    "\n",
    "# TODO: Extract the feature importances using .feature_importances_ \n",
    "importances = model.feature_importances_\n",
    "\n",
    "# Plot\n",
    "vs.feature_plot(importances, X_train, y_train)"
   ]
  },
  {
   "cell_type": "markdown",
   "metadata": {},
   "source": [
    "### Question 7 - Extracting Feature Importance\n",
    "\n",
    "Observe the visualization created above which displays the five most relevant features for predicting if an individual makes at most or above \\$50,000.  \n",
    "* How do these five features compare to the five features you discussed in **Question 6**?\n",
    "* If you were close to the same answer, how does this visualization confirm your thoughts? \n",
    "* If you were not close, why do you think these features are more relevant?"
   ]
  },
  {
   "cell_type": "markdown",
   "metadata": {},
   "source": [
    "**Answer:**"
   ]
  },
  {
   "cell_type": "markdown",
   "metadata": {},
   "source": [
    "### Feature Selection\n",
    "How does a model perform if we only use a subset of all the available features in the data? With less features required to train, the expectation is that training and prediction time is much lower — at the cost of performance metrics. From the visualization above, we see that the top five most important features contribute more than half of the importance of **all** features present in the data. This hints that we can attempt to *reduce the feature space* and simplify the information required for the model to learn. The code cell below will use the same optimized model you found earlier, and train it on the same training set *with only the top five important features*. "
   ]
  },
  {
   "cell_type": "code",
   "execution_count": 69,
   "metadata": {
    "collapsed": true,
    "jupyter": {
     "outputs_hidden": true
    }
   },
   "outputs": [
    {
     "name": "stdout",
     "output_type": "stream",
     "text": [
      "Final Model trained on full data\n",
      "------\n",
      "Accuracy on testing data: 0.8401\n",
      "F-score on testing data: 0.6805\n",
      "\n",
      "Final Model trained on reduced data\n",
      "------\n",
      "Accuracy on testing data: 0.8299\n",
      "F-score on testing data: 0.6603\n"
     ]
    }
   ],
   "source": [
    "# Import functionality for cloning a model\n",
    "from sklearn.base import clone\n",
    "\n",
    "# Reduce the feature space\n",
    "X_train_reduced = X_train[X_train.columns.values[(np.argsort(importances)[::-1])[:5]]]\n",
    "X_test_reduced = X_test[X_test.columns.values[(np.argsort(importances)[::-1])[:5]]]\n",
    "\n",
    "# Train on the \"best\" model found from grid search earlier\n",
    "clf = (clone(best_clf)).fit(X_train_reduced, y_train)\n",
    "\n",
    "# Make new predictions\n",
    "reduced_predictions = clf.predict(X_test_reduced)\n",
    "\n",
    "# Report scores from the final model using both versions of data\n",
    "print(\"Final Model trained on full data\\n------\")\n",
    "print(\"Accuracy on testing data: {:.4f}\".format(accuracy_score(y_test, best_predictions)))\n",
    "print(\"F-score on testing data: {:.4f}\".format(fbeta_score(y_test, best_predictions, beta = 0.5)))\n",
    "print(\"\\nFinal Model trained on reduced data\\n------\")\n",
    "print(\"Accuracy on testing data: {:.4f}\".format(accuracy_score(y_test, reduced_predictions)))\n",
    "print(\"F-score on testing data: {:.4f}\".format(fbeta_score(y_test, reduced_predictions, beta = 0.5)))"
   ]
  },
  {
   "cell_type": "markdown",
   "metadata": {},
   "source": [
    "### Question 8 - Effects of Feature Selection\n",
    "\n",
    "* How does the final model's F-score and accuracy score on the reduced data using only five features compare to those same scores when all features are used?\n",
    "* If training time was a factor, would you consider using the reduced data as your training set?"
   ]
  },
  {
   "cell_type": "markdown",
   "metadata": {},
   "source": [
    "**Answer:**"
   ]
  },
  {
   "cell_type": "markdown",
   "metadata": {},
   "source": [
    "> **Note**: Once you have completed all of the code implementations and successfully answered each question above, you may finalize your work by exporting the iPython Notebook as an HTML document. You can do this by using the menu above and navigating to  \n",
    "**File -> Download as -> HTML (.html)**. Include the finished document along with this notebook as your submission."
   ]
  }
 ],
 "metadata": {
  "interpreter": {
   "hash": "8a2273447fe71f682fda1934d673d5c88af5bb6df55299398b30aa5236f83493"
  },
  "kernelspec": {
   "display_name": "Python [conda env:ml] *",
   "language": "python",
   "name": "python3"
  },
  "language_info": {
   "codemirror_mode": {
    "name": "ipython",
    "version": 3
   },
   "file_extension": ".py",
   "mimetype": "text/x-python",
   "name": "python",
   "nbconvert_exporter": "python",
   "pygments_lexer": "ipython3",
   "version": "3.8.12"
  }
 },
 "nbformat": 4,
 "nbformat_minor": 4
}
